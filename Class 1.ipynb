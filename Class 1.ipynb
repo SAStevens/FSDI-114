{
 "cells": [
  {
   "cell_type": "code",
   "execution_count": 1,
   "id": "4b16f87e",
   "metadata": {},
   "outputs": [
    {
     "name": "stdout",
     "output_type": "stream",
     "text": [
      "H\n",
      "e\n",
      "l\n",
      "l\n",
      "o\n",
      ",\n",
      " \n",
      "w\n",
      "o\n",
      "r\n",
      "l\n",
      "d\n"
     ]
    }
   ],
   "source": [
    "for letter in \"Hello, world\":\n",
    "    print(letter)\n",
    "    "
   ]
  },
  {
   "cell_type": "markdown",
   "id": "ad1b12df",
   "metadata": {},
   "source": [
    "# Challenge 1: Anagram checker\n",
    "### Given two strings (string_a and string_b) write a function that returns True is these are anagrams of each other, False otherwise.\n",
    "*Criteria:*\n",
    "> Two strings are anagrams of each other if all the conditions below are met:\n",
    "> 1. They must be of equal length.\n",
    "> 2. They must use the exact same characters (the same amount of times).\n",
    "\n",
    "```\n",
    "Examples:\n",
    "heart and earth\n",
    "cars and scar\n",
    "rats and star\n",
    "```"
   ]
  },
  {
   "cell_type": "code",
   "execution_count": null,
   "id": "920cc460",
   "metadata": {},
   "outputs": [],
   "source": [
    "def anagram_check(string_a, string_b)"
   ]
  }
 ],
 "metadata": {
  "kernelspec": {
   "display_name": "Python 3 (ipykernel)",
   "language": "python",
   "name": "python3"
  },
  "language_info": {
   "codemirror_mode": {
    "name": "ipython",
    "version": 3
   },
   "file_extension": ".py",
   "mimetype": "text/x-python",
   "name": "python",
   "nbconvert_exporter": "python",
   "pygments_lexer": "ipython3",
   "version": "3.10.6"
  }
 },
 "nbformat": 4,
 "nbformat_minor": 5
}
